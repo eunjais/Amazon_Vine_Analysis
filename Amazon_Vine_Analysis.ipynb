{
  "nbformat": 4,
  "nbformat_minor": 0,
  "metadata": {
    "colab": {
      "provenance": []
    },
    "kernelspec": {
      "name": "python3",
      "display_name": "Python 3"
    },
    "language_info": {
      "name": "python"
    }
  },
  "cells": [
    {
      "cell_type": "code",
      "execution_count": null,
      "metadata": {
        "id": "3aTyaAV5byec"
      },
      "outputs": [],
      "source": [
        "import os\n",
        "spark_version = 'spark-3.3.0'\n",
        "os.environ['SPARK_VERSION'] = spark_version\n",
        "\n",
        "# Install Spark and Java\n",
        "!apt-get update\n",
        "!apt-get install openjdk-11-jdk-headless -qq > /dev/null\n",
        "!wget -q http://www.apache.org/dist/spark/$SPARK_VERSION/$SPARK_VERSION-bin-hadoop3.tgz\n",
        "!tar xf $SPARK_VERSION-bin-hadoop3.tgz\n",
        "!pip install -q findspark\n",
        "\n",
        "# Install Postgres Driver\n",
        "!wget https://jdbc.postgresql.org/download/postgresql-42.5.0.jar\n",
        "\n",
        "# Set Environment Variables\n",
        "os.environ[\"JAVA_HOME\"] = \"/usr/lib/jvm/java-11-openjdk-amd64\"\n",
        "os.environ[\"SPARK_HOME\"] = f\"/content/{spark_version}-bin-hadoop3\"\n",
        "\n",
        "# Start a SparkSession\n",
        "import findspark\n",
        "findspark.init()"
      ]
    },
    {
      "cell_type": "code",
      "source": [
        "# Download the Postgres driver that will allow Spark to interact with Postgres.\n",
        "!wget https://jdbc.postgresql.org/download/postgresql-42.2.16.jar"
      ],
      "metadata": {
        "id": "Oz4T0KYkb2iH"
      },
      "execution_count": null,
      "outputs": []
    },
    {
      "cell_type": "code",
      "source": [
        "from pyspark.sql import SparkSession\n",
        "spark = SparkSession.builder.appName(\"BigData-Challenge\").config(\"spark.driver.extraClassPath\",\"/content/postgresql-42.2.16.jar\")"
      ],
      "metadata": {
        "id": "8RvzA1wGb3n-"
      },
      "execution_count": null,
      "outputs": []
    },
    {
      "cell_type": "code",
      "source": [
        "from pyspark import SparkFiles\n",
        "url = \"https://s3.amazonaws.com/amazon-reviews-pds/tsv/amazon_reviews_us_Shoes_v1_00.tsv.gz\"\n",
        "spark.sparkContext.addFile(url)\n",
        "df = spark.read.option(\"encoding\", \"UTF-8\").csv(SparkFiles.get(\"amazon_reviews_us_Shoes_v1_00.tsv.gz\"), sep=\"\\t\", header=True, inferSchema=True)\n",
        "df.show()"
      ],
      "metadata": {
        "id": "A9h4496cb45X"
      },
      "execution_count": null,
      "outputs": []
    },
    {
      "cell_type": "code",
      "source": [
        "from pyspark.sql.functions import to_date\n",
        "# Read in the Review dataset as a DataFrame\n",
        "clean_df = df.dropna()"
      ],
      "metadata": {
        "id": "UVHbTQecb608"
      },
      "execution_count": null,
      "outputs": []
    },
    {
      "cell_type": "code",
      "source": [
        "# Recreate vine_table\n",
        "vine_df = clean_df.select([\"review_id\",\"star_rating\",\"helpful_votes\",\"total_votes\",\"vine\",\"verified_purchase\"])\n",
        "vine_df.show()"
      ],
      "metadata": {
        "id": "kwoAkg0gb-Il"
      },
      "execution_count": null,
      "outputs": []
    },
    {
      "cell_type": "code",
      "source": [
        "#1. Filter total votes >= 20\n",
        "vote_count_greater20 = vine_df.filter(\"total_votes >= 20\")\n",
        "vote_count_greater20.show()"
      ],
      "metadata": {
        "id": "pm773S4Xb7X3"
      },
      "execution_count": null,
      "outputs": []
    },
    {
      "cell_type": "code",
      "source": [
        "#2. Filter to retrieve helpful_votes/total_votes >= 50\n",
        "vote_count_greater50 = vote_count_greater20.filter(\"(helpful_votes/total_votes)>=0.5\")\n",
        "vote_count_greater50.show()"
      ],
      "metadata": {
        "id": "K2uCOomqcBTn"
      },
      "execution_count": null,
      "outputs": []
    },
    {
      "cell_type": "code",
      "source": [
        "#3. Vine(paid) Reviews\n",
        "paid_reviews = vote_count_greater50.filter(\"vine == 'Y'\")\n",
        "paid_reviews.show()"
      ],
      "metadata": {
        "id": "F5jVIv-OcCM_"
      },
      "execution_count": null,
      "outputs": []
    },
    {
      "cell_type": "code",
      "source": [
        "# Vine(unpaid) Reviews\n",
        "unpaid_reviews = vote_count_greater50.filter(\"vine == 'N'\")\n",
        "unpaid_reviews.show()"
      ],
      "metadata": {
        "id": "KJ3PpHTHcDH2"
      },
      "execution_count": null,
      "outputs": []
    },
    {
      "cell_type": "code",
      "source": [
        "# Total Reviews\n",
        "total_reviews = vote_count_greater50.count()\n",
        "total_reviews"
      ],
      "metadata": {
        "id": "TP-TxgUncD5P"
      },
      "execution_count": null,
      "outputs": []
    },
    {
      "cell_type": "code",
      "source": [
        "# Total Vine(paid)\n",
        "total_paid_reviews = vote_count_greater50.filter(\"vine == 'Y'\")\n",
        "total_paid_reviews_count = total_paid_reviews.count()\n",
        "total_paid_reviews_count"
      ],
      "metadata": {
        "id": "tRczbPc9cEr2"
      },
      "execution_count": null,
      "outputs": []
    },
    {
      "cell_type": "code",
      "source": [
        "# Total Vine(unpaid)\n",
        "total_unpaid_reviews = vote_count_greater50.filter (\"vine == 'N'\")\n",
        "total_unpaid_reviews_count = total_unpaid_reviews.count()\n",
        "total_unpaid_reviews_count"
      ],
      "metadata": {
        "id": "FP8lglXccGdn"
      },
      "execution_count": null,
      "outputs": []
    },
    {
      "cell_type": "code",
      "source": [
        "# Total 5-star reviews\n",
        "total_5star_reviews = vote_count_greater50.filter(\"star_rating == 5\")\n",
        "total_5star_reviews_count = total_5star_reviews.count()\n",
        "total_5star_reviews_count"
      ],
      "metadata": {
        "id": "Juok6QFucHKX"
      },
      "execution_count": null,
      "outputs": []
    },
    {
      "cell_type": "code",
      "source": [
        "# Total 5-star Vine(paid)\n",
        "paid_5star_reviews = total_paid_reviews.filter(\"star_rating == 5\")\n",
        "paid_5star_reviews_count = paid_5star_reviews.count()\n",
        "paid_5star_reviews_count"
      ],
      "metadata": {
        "id": "BpSct_5hcIAH"
      },
      "execution_count": null,
      "outputs": []
    },
    {
      "cell_type": "code",
      "source": [
        "# Total 5-star vine(unpaid)\n",
        "unpaid_5star_reviews = total_unpaid_reviews.filter(\"star_rating < 5\")\n",
        "unpaid_5star_reviews_count = unpaid_5star_reviews.count()\n",
        "unpaid_5star_reviews_count"
      ],
      "metadata": {
        "id": "ww4RP2w-cIiV"
      },
      "execution_count": null,
      "outputs": []
    },
    {
      "cell_type": "code",
      "source": [
        "# 5-Star paid reviews % of total vine(paid)\n",
        "paid_5star_per_total_paid = (paid_5star_reviews_count/total_paid_reviews_count) * 100 \n",
        "round(paid_5star_per_total_paid, 2)"
      ],
      "metadata": {
        "id": "PXRytGUlcJld"
      },
      "execution_count": null,
      "outputs": []
    },
    {
      "cell_type": "code",
      "source": [
        "# Paid reviews as % total 5-star reviews\n",
        "paid_5star_per_total_5star = (paid_5star_reviews_count/total_5star_reviews_count) * 100\n",
        "round(paid_5star_per_total_5star, 2)"
      ],
      "metadata": {
        "id": "ZdpvEYeXcKVQ"
      },
      "execution_count": null,
      "outputs": []
    },
    {
      "cell_type": "code",
      "source": [
        "# Unpaid 5-star reviews as % total unpaid reviews\n",
        "unpaid_5star_per_total_unpaid = (unpaid_5star_reviews_count/total_unpaid_reviews_count) * 100\n",
        "round(unpaid_5star_per_total_unpaid, 3)"
      ],
      "metadata": {
        "id": "yCmUDwekcLZf"
      },
      "execution_count": null,
      "outputs": []
    },
    {
      "cell_type": "code",
      "source": [
        "# Unpaid 5-star reviews as % total 5-star reviews\n",
        "unpaid_5star_per_total_5star = (unpaid_5star_reviews_count/total_5star_reviews_count) * 100\n",
        "round(unpaid_5star_per_total_5star, 3)"
      ],
      "metadata": {
        "id": "CldTZjNEcMK_"
      },
      "execution_count": null,
      "outputs": []
    }
  ]
}